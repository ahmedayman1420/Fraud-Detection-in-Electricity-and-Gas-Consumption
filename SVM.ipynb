{
 "cells": [
  {
   "cell_type": "code",
   "execution_count": 1,
   "metadata": {},
   "outputs": [],
   "source": [
    "# ========== ----- ========== Import Libraries ========== ----- ========== #\n",
    "\n",
    "import numpy as np\n",
    "import pandas as pd\n",
    "from matplotlib import pyplot as plt\n",
    "from sklearn import svm\n",
    "from sklearn.model_selection import GridSearchCV\n",
    "from sklearn.model_selection import train_test_split\n",
    "from sklearn.metrics import confusion_matrix\n",
    "from sklearn.metrics import accuracy_score\n",
    "from sklearn.datasets import make_classification\n",
    "from sklearn.model_selection import train_test_split\n",
    "from sklearn.linear_model import LogisticRegression\n",
    "from sklearn.metrics import roc_auc_score\n",
    "from sklearn.utils import resample\n",
    "from imblearn.over_sampling import SMOTE\n",
    "from joblib import dump, load\n",
    "\n",
    "# from mlxtend.plotting import plot_decision_regions \n",
    "\n",
    "# ========== ----- ========== End ========== ----- ========== #"
   ]
  },
  {
   "cell_type": "code",
   "execution_count": 2,
   "metadata": {},
   "outputs": [
    {
     "name": "stdout",
     "output_type": "stream",
     "text": [
      "Number of Rows:  135493\n",
      "Number of Columns:  50 \n",
      "\n",
      "   client_catg  target  avg_elec_reading_remarque  \\\n",
      "0           11       0                   6.971429   \n",
      "1           11       0                   7.216216   \n",
      "2           11       0                   7.055556   \n",
      "3           11       0                   6.150000   \n",
      "4           11       0                   8.857143   \n",
      "\n",
      "   avg_elec_consommation_level_1  avg_elec_consommation_level_2  \\\n",
      "0                     352.400000                      10.571429   \n",
      "1                     557.540541                       0.000000   \n",
      "2                     798.611111                      37.888889   \n",
      "3                       1.200000                       0.000000   \n",
      "4                     663.714286                     104.857143   \n",
      "\n",
      "   avg_elec_consommation_level_3  avg_elec_consommation_level_4  \\\n",
      "0                       0.000000                       0.000000   \n",
      "1                       0.000000                       0.000000   \n",
      "2                       0.000000                       0.000000   \n",
      "3                       0.000000                       0.000000   \n",
      "4                     117.357143                      36.714286   \n",
      "\n",
      "   avg_elec_months_number  avg_gaz_reading_remarque  \\\n",
      "0                4.628571                       0.0   \n",
      "1                4.324324                       0.0   \n",
      "2                6.444444                       0.0   \n",
      "3                4.200000                       0.0   \n",
      "4                3.714286                       0.0   \n",
      "\n",
      "   avg_gaz_consommation_level_1  ...  std_elec_consommation_level_2  \\\n",
      "0                           0.0  ...                      43.568935   \n",
      "1                           0.0  ...                       0.000000   \n",
      "2                           0.0  ...                     160.748942   \n",
      "3                           0.0  ...                       0.000000   \n",
      "4                           0.0  ...                     167.155320   \n",
      "\n",
      "   std_elec_consommation_level_3  std_elec_consommation_level_4  \\\n",
      "0                       0.000000                       0.000000   \n",
      "1                       0.000000                       0.000000   \n",
      "2                       0.000000                       0.000000   \n",
      "3                       0.000000                       0.000000   \n",
      "4                     289.433294                     105.421081   \n",
      "\n",
      "   std_elec_months_number  std_gaz_reading_remarque  \\\n",
      "0                2.101620                       0.0   \n",
      "1                1.375461                       0.0   \n",
      "2                3.399346                       0.0   \n",
      "3                0.615587                       0.0   \n",
      "4                0.726273                       0.0   \n",
      "\n",
      "   std_gaz_consommation_level_1  std_gaz_consommation_level_2  \\\n",
      "0                           0.0                           0.0   \n",
      "1                           0.0                           0.0   \n",
      "2                           0.0                           0.0   \n",
      "3                           0.0                           0.0   \n",
      "4                           0.0                           0.0   \n",
      "\n",
      "   std_gaz_consommation_level_3  std_gaz_consommation_level_4  \\\n",
      "0                             0                             0   \n",
      "1                             0                             0   \n",
      "2                             0                             0   \n",
      "3                             0                             0   \n",
      "4                             0                             0   \n",
      "\n",
      "   std_gaz_months_number  \n",
      "0                    0.0  \n",
      "1                    0.0  \n",
      "2                    0.0  \n",
      "3                    0.0  \n",
      "4                    0.0  \n",
      "\n",
      "[5 rows x 50 columns]\n"
     ]
    }
   ],
   "source": [
    "# ========== ----- ========== Import Dataset ========== ----- ========== #\n",
    "\n",
    "# Read the CSV file into a pandas DataFrame\n",
    "df = pd.read_csv('final_df.csv')\n",
    "\n",
    "# get the number of rows and columns\n",
    "num_rows, num_cols = df.shape\n",
    "\n",
    "print('Number of Rows: ', num_rows)\n",
    "print('Number of Columns: ', num_cols, \"\\n\")\n",
    "\n",
    "# Display the first few rows of the DataFrame\n",
    "print(df.head())\n",
    "\n",
    "# ========== ----- ========== End ========== ----- ========== #\n"
   ]
  },
  {
   "cell_type": "code",
   "execution_count": 3,
   "metadata": {},
   "outputs": [
    {
     "name": "stdout",
     "output_type": "stream",
     "text": [
      "0    127927\n",
      "1      7566\n",
      "Name: target, dtype: int64\n"
     ]
    },
    {
     "data": {
      "image/png": "[encoded data removed]",
      "text/plain": [
       "<Figure size 576x576 with 1 Axes>"
      ]
     },
     "metadata": {},
     "output_type": "display_data"
    }
   ],
   "source": [
    "# ========== ----- ========== Traget Column Analysis ========== ----- ========== #\n",
    "\n",
    "# get the values of Target and their counts\n",
    "target_counts = df['target'].value_counts()\n",
    "print(target_counts)\n",
    "\n",
    "# Create a pie chart\n",
    "custom_colors = ['#FFC300', '#900C3F']\n",
    "fig, ax = plt.subplots(figsize=(8, 8))\n",
    "ax.pie(target_counts, labels=[\"Unfraud\", \"Fraud\"],\n",
    "       colors=custom_colors, labeldistance=1.2, textprops={'color': 'white', 'fontsize': 16})\n",
    "# Add a title\n",
    "plt.title('Distance deviations')\n",
    "# Show the chart\n",
    "plt.show()\n",
    "\n",
    "# ========== ----- ========== End ========== ----- ========== #\n"
   ]
  },
  {
   "cell_type": "code",
   "execution_count": 4,
   "metadata": {},
   "outputs": [],
   "source": [
    "# ========== ----- ========== SVM Model ========== ----- ========== #\n",
    "\n",
    "df_copy = df.copy()\n",
    "X = df_copy.drop('target', axis=1)\n",
    "y = df['target']\n",
    "\n",
    "# Split the dataset into training and test sets\n",
    "X_train, X_test, y_train, y_test = train_test_split(\n",
    "    X, y, test_size=0.2, random_state=42)\n",
    "\n",
    "model = svm.SVC()\n",
    "model.fit(X_train, y_train)\n",
    "\n",
    "# Save the trained model to a file\n",
    "dump(model, 'svm_model.joblib')\n",
    "\n",
    "# Predict the target variable for the test data\n",
    "y_pred = model.predict(X_test)\n",
    "\n",
    "# ========== ----- ========== End ========== ----- ========== #\n"
   ]
  },
  {
   "cell_type": "code",
   "execution_count": 5,
   "metadata": {},
   "outputs": [
    {
     "name": "stdout",
     "output_type": "stream",
     "text": [
      "[[25535     0]\n",
      " [ 1564     0]]\n",
      "Accuracy: 0.942285693199011\n"
     ]
    }
   ],
   "source": [
    "# ========== ----- ========== Test SVM Model ========== ----- ========== #\n",
    "\n",
    "# Evaluate the model performance\n",
    "accuracy = accuracy_score(y_test, y_pred)\n",
    "print(confusion_matrix(y_test, y_pred))\n",
    "print('Accuracy:', accuracy)\n",
    "\n",
    "# ========== ----- ========== End ========== ----- ========== #\n"
   ]
  },
  {
   "cell_type": "code",
   "execution_count": null,
   "metadata": {},
   "outputs": [],
   "source": []
  }
 ],
 "metadata": {
  "interpreter": {
   "hash": "dc14f7734d659c7a792a107c713d39d3b0ed48a15e8cd1909946cea7b1916837"
  },
  "kernelspec": {
   "display_name": "Python 3",
   "language": "python",
   "name": "python3"
  },
  "language_info": {
   "codemirror_mode": {
    "name": "ipython",
    "version": 3
   },
   "file_extension": ".py",
   "mimetype": "text/x-python",
   "name": "python",
   "nbconvert_exporter": "python",
   "pygments_lexer": "ipython3",
   "version": "3.9.7"
  }
 },
 "nbformat": 4,
 "nbformat_minor": 2
}
