{
  "cells": [
    {
      "cell_type": "code",
      "execution_count": 17,
      "metadata": {
        "colab": {
          "base_uri": "https://localhost:8080/"
        },
        "id": "MB76NORGbQcF",
        "outputId": "cec84fe3-ba58-45e0-d21f-7d4b14e81a33"
      },
      "outputs": [],
      "source": [
        "# ========== ----- ========== Import Libraries ========== ----- ========== #\n",
        "\n",
        "import numpy as np\n",
        "import pandas as pd\n",
        "from matplotlib import pyplot as plt\n",
        "import pandas as pd\n",
        "from sklearn.linear_model import LogisticRegression\n",
        "from sklearn.model_selection import train_test_split\n",
        "from sklearn.metrics import accuracy_score\n",
        "from sklearn.metrics import confusion_matrix\n",
        "from imblearn.over_sampling import SMOTE\n",
        "from sklearn.utils import resample\n",
        "\n",
        "# ========== ----- ========== End ========== ----- ========== #"
      ]
    },
    {
      "cell_type": "code",
      "execution_count": 18,
      "metadata": {},
      "outputs": [
        {
          "name": "stdout",
          "output_type": "stream",
          "text": [
            "Number of Rows:  135493\n",
            "Number of Columns:  50 \n",
            "\n",
            "   client_catg  avg_elec_reading_remarque  avg_elec_consommation_level_1  \\\n",
            "0           11                   6.971429                     352.400000   \n",
            "1           11                   7.216216                     557.540541   \n",
            "2           11                   7.055556                     798.611111   \n",
            "3           11                   6.150000                       1.200000   \n",
            "4           11                   8.857143                     663.714286   \n",
            "\n",
            "   avg_elec_consommation_level_2  avg_elec_consommation_level_3  \\\n",
            "0                      10.571429                       0.000000   \n",
            "1                       0.000000                       0.000000   \n",
            "2                      37.888889                       0.000000   \n",
            "3                       0.000000                       0.000000   \n",
            "4                     104.857143                     117.357143   \n",
            "\n",
            "   avg_elec_consommation_level_4  avg_elec_months_number  \\\n",
            "0                       0.000000                4.628571   \n",
            "1                       0.000000                4.324324   \n",
            "2                       0.000000                6.444444   \n",
            "3                       0.000000                4.200000   \n",
            "4                      36.714286                3.714286   \n",
            "\n",
            "   avg_gaz_reading_remarque  avg_gaz_consommation_level_1  \\\n",
            "0                       0.0                           0.0   \n",
            "1                       0.0                           0.0   \n",
            "2                       0.0                           0.0   \n",
            "3                       0.0                           0.0   \n",
            "4                       0.0                           0.0   \n",
            "\n",
            "   avg_gaz_consommation_level_2  ...  std_elec_consommation_level_3  \\\n",
            "0                           0.0  ...                       0.000000   \n",
            "1                           0.0  ...                       0.000000   \n",
            "2                           0.0  ...                       0.000000   \n",
            "3                           0.0  ...                       0.000000   \n",
            "4                           0.0  ...                     289.433294   \n",
            "\n",
            "   std_elec_consommation_level_4  std_elec_months_number  \\\n",
            "0                       0.000000                2.101620   \n",
            "1                       0.000000                1.375461   \n",
            "2                       0.000000                3.399346   \n",
            "3                       0.000000                0.615587   \n",
            "4                     105.421081                0.726273   \n",
            "\n",
            "   std_gaz_reading_remarque  std_gaz_consommation_level_1  \\\n",
            "0                       0.0                           0.0   \n",
            "1                       0.0                           0.0   \n",
            "2                       0.0                           0.0   \n",
            "3                       0.0                           0.0   \n",
            "4                       0.0                           0.0   \n",
            "\n",
            "   std_gaz_consommation_level_2  std_gaz_consommation_level_3  \\\n",
            "0                           0.0                             0   \n",
            "1                           0.0                             0   \n",
            "2                           0.0                             0   \n",
            "3                           0.0                             0   \n",
            "4                           0.0                             0   \n",
            "\n",
            "   std_gaz_consommation_level_4  std_gaz_months_number  target  \n",
            "0                             0                    0.0       0  \n",
            "1                             0                    0.0       0  \n",
            "2                             0                    0.0       0  \n",
            "3                             0                    0.0       0  \n",
            "4                             0                    0.0       0  \n",
            "\n",
            "[5 rows x 50 columns]\n"
          ]
        }
      ],
      "source": [
        "# ========== ----- ========== Import Dataset ========== ----- ========== #\n",
        "\n",
        "# Read the CSV file into a pandas DataFrame\n",
        "df = pd.read_csv('final_df.csv')\n",
        "\n",
        "# get the number of rows and columns\n",
        "num_rows, num_cols = df.shape\n",
        "\n",
        "print('Number of Rows: ', num_rows)\n",
        "print('Number of Columns: ', num_cols, \"\\n\")\n",
        "\n",
        "# Display the first few rows of the DataFrame\n",
        "print(df.head())\n",
        "\n",
        "# ========== ----- ========== End ========== ----- ========== #"
      ]
    },
    {
      "cell_type": "code",
      "execution_count": 19,
      "metadata": {},
      "outputs": [
        {
          "name": "stdout",
          "output_type": "stream",
          "text": [
            "0    127927\n",
            "1      7566\n",
            "Name: target, dtype: int64\n"
          ]
        },
        {
          "data": {
            "image/png": "[encoded data removed]",
            "text/plain": [
              "<Figure size 576x576 with 1 Axes>"
            ]
          },
          "metadata": {},
          "output_type": "display_data"
        }
      ],
      "source": [
        "# ========== ----- ========== Traget Column Analysis ========== ----- ========== #\n",
        "\n",
        "# get the values of Target and their counts\n",
        "target_counts = df['target'].value_counts()\n",
        "print(target_counts)\n",
        "\n",
        "# Create a pie chart\n",
        "custom_colors = ['#FFC300', '#900C3F']\n",
        "fig, ax = plt.subplots(figsize=(8, 8))\n",
        "ax.pie(target_counts, labels=[\"Unfraud\", \"Fraud\"],\n",
        "       colors=custom_colors, labeldistance=1.2, textprops={'color': 'white', 'fontsize': 16})\n",
        "# Add a title\n",
        "plt.title('Traget Column Analysis')\n",
        "# Show the chart\n",
        "plt.show()\n",
        "\n",
        "# ========== ----- ========== End ========== ----- ========== #\n"
      ]
    },
    {
      "cell_type": "code",
      "execution_count": 22,
      "metadata": {},
      "outputs": [
        {
          "name": "stdout",
          "output_type": "stream",
          "text": [
            "Accuracy on testing set: 94.20%\n",
            "[[25522    29]\n",
            " [ 1542     6]]\n"
          ]
        },
        {
          "name": "stderr",
          "output_type": "stream",
          "text": [
            "c:\\Users\\CMP\\Anaconda3\\lib\\site-packages\\sklearn\\linear_model\\_logistic.py:458: ConvergenceWarning: lbfgs failed to converge (status=1):\n",
            "STOP: TOTAL NO. of ITERATIONS REACHED LIMIT.\n",
            "\n",
            "Increase the number of iterations (max_iter) or scale the data as shown in:\n",
            "    https://scikit-learn.org/stable/modules/preprocessing.html\n",
            "Please also refer to the documentation for alternative solver options:\n",
            "    https://scikit-learn.org/stable/modules/linear_model.html#logistic-regression\n",
            "  n_iter_i = _check_optimize_result(\n"
          ]
        }
      ],
      "source": [
        "# ========== ----- ========== Logistic Regression Model ========== ----- ========== #\n",
        "\n",
        "# Split the data into training and testing sets\n",
        "# Select all columns except the target field\n",
        "X = df.drop(\"target\", axis=1)\n",
        "y = df[\"target\"]\n",
        "X_train, X_test, y_train, y_test = train_test_split(\n",
        "    X, y, test_size=0.2, random_state=1234)\n",
        "\n",
        "# Train a logistic regression model on the training set\n",
        "lr = LogisticRegression(max_iter=1000, C=0.1)\n",
        "lr.fit(X_train, y_train)\n",
        "\n",
        "# Make predictions on the testing set\n",
        "y_pred = lr.predict(X_test)\n",
        "\n",
        "# Evaluate the accuracy of the model on the testing set\n",
        "accuracy = accuracy_score(y_test, y_pred)\n",
        "print(\"Accuracy on testing set: {:.2f}%\".format(accuracy * 100))\n",
        "print(confusion_matrix(y_test, y_pred))\n",
        "\n",
        "# ========== ----- ========== End ========== ----- ========== #\n"
      ]
    },
    {
      "cell_type": "code",
      "execution_count": null,
      "metadata": {},
      "outputs": [],
      "source": []
    }
  ],
  "metadata": {
    "colab": {
      "provenance": []
    },
    "kernelspec": {
      "display_name": "Python 3",
      "name": "python3"
    },
    "language_info": {
      "codemirror_mode": {
        "name": "ipython",
        "version": 3
      },
      "file_extension": ".py",
      "mimetype": "text/x-python",
      "name": "python",
      "nbconvert_exporter": "python",
      "pygments_lexer": "ipython3",
      "version": "3.9.7"
    }
  },
  "nbformat": 4,
  "nbformat_minor": 0
}
