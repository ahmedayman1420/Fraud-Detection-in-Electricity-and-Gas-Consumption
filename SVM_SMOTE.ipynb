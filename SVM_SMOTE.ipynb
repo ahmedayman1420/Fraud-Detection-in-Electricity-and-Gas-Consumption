{
 "cells": [
  {
   "cell_type": "code",
   "execution_count": 9,
   "metadata": {},
   "outputs": [],
   "source": [
    "# ========== ----- ========== Import Libraries ========== ----- ========== #\n",
    "\n",
    "import numpy as np\n",
    "import pandas as pd\n",
    "from matplotlib import pyplot as plt\n",
    "from sklearn import svm\n",
    "from sklearn.model_selection import GridSearchCV\n",
    "from sklearn.model_selection import train_test_split\n",
    "from sklearn.metrics import confusion_matrix\n",
    "from sklearn.metrics import accuracy_score\n",
    "from sklearn.datasets import make_classification\n",
    "from sklearn.model_selection import train_test_split\n",
    "from sklearn.linear_model import LogisticRegression\n",
    "from sklearn.metrics import roc_auc_score\n",
    "from sklearn.utils import resample\n",
    "from imblearn.over_sampling import SMOTE\n",
    "from joblib import dump, load\n",
    "\n",
    "# from mlxtend.plotting import plot_decision_regions \n",
    "\n",
    "# ========== ----- ========== End ========== ----- ========== #"
   ]
  },
  {
   "cell_type": "code",
   "execution_count": 10,
   "metadata": {},
   "outputs": [
    {
     "name": "stdout",
     "output_type": "stream",
     "text": [
      "Number of Rows:  135493\n",
      "Number of Columns:  50 \n",
      "\n",
      "   client_catg  avg_elec_reading_remarque  avg_elec_consommation_level_1  \\\n",
      "0           11                   6.971429                     352.400000   \n",
      "1           11                   7.216216                     557.540541   \n",
      "2           11                   7.055556                     798.611111   \n",
      "3           11                   6.150000                       1.200000   \n",
      "4           11                   8.857143                     663.714286   \n",
      "\n",
      "   avg_elec_consommation_level_2  avg_elec_consommation_level_3  \\\n",
      "0                      10.571429                       0.000000   \n",
      "1                       0.000000                       0.000000   \n",
      "2                      37.888889                       0.000000   \n",
      "3                       0.000000                       0.000000   \n",
      "4                     104.857143                     117.357143   \n",
      "\n",
      "   avg_elec_consommation_level_4  avg_elec_months_number  \\\n",
      "0                       0.000000                4.628571   \n",
      "1                       0.000000                4.324324   \n",
      "2                       0.000000                6.444444   \n",
      "3                       0.000000                4.200000   \n",
      "4                      36.714286                3.714286   \n",
      "\n",
      "   avg_gaz_reading_remarque  avg_gaz_consommation_level_1  \\\n",
      "0                       0.0                           0.0   \n",
      "1                       0.0                           0.0   \n",
      "2                       0.0                           0.0   \n",
      "3                       0.0                           0.0   \n",
      "4                       0.0                           0.0   \n",
      "\n",
      "   avg_gaz_consommation_level_2  ...  std_elec_consommation_level_3  \\\n",
      "0                           0.0  ...                       0.000000   \n",
      "1                           0.0  ...                       0.000000   \n",
      "2                           0.0  ...                       0.000000   \n",
      "3                           0.0  ...                       0.000000   \n",
      "4                           0.0  ...                     289.433294   \n",
      "\n",
      "   std_elec_consommation_level_4  std_elec_months_number  \\\n",
      "0                       0.000000                2.101620   \n",
      "1                       0.000000                1.375461   \n",
      "2                       0.000000                3.399346   \n",
      "3                       0.000000                0.615587   \n",
      "4                     105.421081                0.726273   \n",
      "\n",
      "   std_gaz_reading_remarque  std_gaz_consommation_level_1  \\\n",
      "0                       0.0                           0.0   \n",
      "1                       0.0                           0.0   \n",
      "2                       0.0                           0.0   \n",
      "3                       0.0                           0.0   \n",
      "4                       0.0                           0.0   \n",
      "\n",
      "   std_gaz_consommation_level_2  std_gaz_consommation_level_3  \\\n",
      "0                           0.0                             0   \n",
      "1                           0.0                             0   \n",
      "2                           0.0                             0   \n",
      "3                           0.0                             0   \n",
      "4                           0.0                             0   \n",
      "\n",
      "   std_gaz_consommation_level_4  std_gaz_months_number  target  \n",
      "0                             0                    0.0       0  \n",
      "1                             0                    0.0       0  \n",
      "2                             0                    0.0       0  \n",
      "3                             0                    0.0       0  \n",
      "4                             0                    0.0       0  \n",
      "\n",
      "[5 rows x 50 columns]\n"
     ]
    }
   ],
   "source": [
    "# ========== ----- ========== Import Dataset ========== ----- ========== #\n",
    "\n",
    "# Read the CSV file into a pandas DataFrame\n",
    "df = pd.read_csv('final_df.csv')\n",
    "\n",
    "# get the number of rows and columns\n",
    "num_rows, num_cols = df.shape\n",
    "\n",
    "print('Number of Rows: ', num_rows)\n",
    "print('Number of Columns: ', num_cols, \"\\n\")\n",
    "\n",
    "# Display the first few rows of the DataFrame\n",
    "print(df.head())\n",
    "\n",
    "# ========== ----- ========== End ========== ----- ========== #\n"
   ]
  },
  {
   "cell_type": "code",
   "execution_count": 11,
   "metadata": {},
   "outputs": [
    {
     "name": "stdout",
     "output_type": "stream",
     "text": [
      "0    127927\n",
      "1      7566\n",
      "Name: target, dtype: int64\n"
     ]
    },
    {
     "data": {
      "image/png": "[encoded data removed]",
      "text/plain": [
       "<Figure size 576x576 with 1 Axes>"
      ]
     },
     "metadata": {},
     "output_type": "display_data"
    }
   ],
   "source": [
    "# ========== ----- ========== Traget Column Analysis ========== ----- ========== #\n",
    "\n",
    "# get the values of Target and their counts\n",
    "target_counts = df['target'].value_counts()\n",
    "print(target_counts)\n",
    "\n",
    "# Create a pie chart\n",
    "custom_colors = ['#FFC300', '#900C3F']\n",
    "fig, ax = plt.subplots(figsize=(8, 8))\n",
    "ax.pie(target_counts, labels=[\"Unfraud\", \"Fraud\"],\n",
    "       colors=custom_colors, labeldistance=1.2, textprops={'color': 'white', 'fontsize': 16})\n",
    "# Add a title\n",
    "plt.title('Traget Column Analysis')\n",
    "# Show the chart\n",
    "plt.show()\n",
    "\n",
    "# ========== ----- ========== End ========== ----- ========== #\n"
   ]
  },
  {
   "cell_type": "code",
   "execution_count": 12,
   "metadata": {},
   "outputs": [
    {
     "name": "stdout",
     "output_type": "stream",
     "text": [
      "{0: 102392, 1: 102392}\n"
     ]
    },
    {
     "data": {
      "image/png": "[encoded data removed]",
      "text/plain": [
       "<Figure size 576x576 with 1 Axes>"
      ]
     },
     "metadata": {},
     "output_type": "display_data"
    }
   ],
   "source": [
    "# ========== ----- ========== Imbalanced Dataset ========== ----- ========== #\n",
    "\n",
    "\"\"\"\n",
    "Imbalanced datasets can pose a challenge for machine learning models because they tend to be biased towards the majority class, resulting in poor performance on the minority class. Therefore, it is important to address class imbalance before training a model.\n",
    "Here are some common techniques you can use to address class imbalance:\n",
    "\n",
    "1-Undersampling: randomly removing samples from the majority class to balance the dataset. This approach can potentially discard important information.\n",
    "2-Oversampling: replicating samples from the minority class to balance the dataset. This approach can lead to overfitting and may not generalize well.\n",
    "3-Synthetic Minority Over-sampling Technique (SMOTE): creating synthetic samples from the minority class by interpolating between existing samples. SMOTE can increase the size of the minority class without overfitting.\n",
    "4-Cost-sensitive learning: assigning different misclassification costs to different classes, so that the model gives more weight to the minority class.\n",
    "5-Ensemble methods: combining multiple models trained on different subsamples of the data to improve overall performance.\n",
    "\"\"\"\n",
    "\n",
    "df_copy = df.copy()\n",
    "X = df_copy.drop('target', axis=1)\n",
    "y = df['target']\n",
    "\n",
    "# Split the dataset into training and test sets\n",
    "X_train, X_test, y_train, y_test = train_test_split(\n",
    "    X, y, test_size=0.2, random_state=42)\n",
    "\n",
    "# Perform random oversampling on the training set\n",
    "X_train_oversampled, y_train_oversampled = resample(\n",
    "    X_train[y_train == 1], y_train[y_train == 1], replace=True, n_samples=X_train[y_train == 0].shape[0], random_state=42)\n",
    "X_train_oversampled = np.concatenate(\n",
    "    [X_train[y_train == 0], X_train_oversampled])\n",
    "y_train_oversampled = np.concatenate(\n",
    "    [y_train[y_train == 0], y_train_oversampled])\n",
    "\n",
    "# get the values of Target and their counts\n",
    "value_counts = {}\n",
    "for value in y_train_oversampled:\n",
    "  if value in value_counts:\n",
    "    # increment count if value already exists in dictionary\n",
    "    value_counts[value] += 1\n",
    "  else:\n",
    "    # add value to dictionary with count initialized to 1\n",
    "    value_counts[value] = 1\n",
    "target_counts = value_counts\n",
    "print(target_counts)\n",
    "\n",
    "# Create a pie chart\n",
    "custom_colors = ['#FFC300', '#900C3F']\n",
    "fig, ax = plt.subplots(figsize=(8, 8))\n",
    "ax.pie(list(target_counts.values()), labels=[\"Unfraud\", \"Fraud\"],\n",
    "       colors=custom_colors, labeldistance=1.2, textprops={'color': 'white', 'fontsize': 16})\n",
    "# Add a title\n",
    "plt.title('Traget Column Analysis')\n",
    "# Show the chart\n",
    "plt.show()\n",
    "\n",
    "# ========== ----- ========== End ========== ----- ========== #"
   ]
  },
  {
   "cell_type": "code",
   "execution_count": 13,
   "metadata": {},
   "outputs": [
    {
     "name": "stderr",
     "output_type": "stream",
     "text": [
      "c:\\Users\\CMP\\Anaconda3\\lib\\site-packages\\sklearn\\base.py:432: UserWarning: X has feature names, but SVC was fitted without feature names\n",
      "  warnings.warn(\n"
     ]
    },
    {
     "data": {
      "text/plain": [
       "['svm_model_smote.joblib']"
      ]
     },
     "execution_count": 13,
     "metadata": {},
     "output_type": "execute_result"
    }
   ],
   "source": [
    "# ========== ----- ========== SVM Model ========== ----- ========== #\n",
    "\n",
    "model = svm.SVC()\n",
    "model.fit(X_train_oversampled, y_train_oversampled)\n",
    "\n",
    "# Predict the target variable for the test data\n",
    "y_pred = model.predict(X_test)\n",
    "\n",
    "# Save the trained model to a file\n",
    "dump(model, 'svm_model_smote.joblib')\n",
    "\n",
    "\n",
    "# ========== ----- ========== End ========== ----- ========== #\n"
   ]
  },
  {
   "cell_type": "code",
   "execution_count": 14,
   "metadata": {},
   "outputs": [
    {
     "name": "stdout",
     "output_type": "stream",
     "text": [
      "Accuracy on testing set: 66.78%\n",
      "[[17093  8442]\n",
      " [  560  1004]]\n"
     ]
    }
   ],
   "source": [
    "# ========== ----- ========== Test SVM Model ========== ----- ========== #\n",
    "\n",
    "# Evaluate the model performance\n",
    "accuracy = accuracy_score(y_test, y_pred)\n",
    "print(\"Accuracy on testing set: {:.2f}%\".format(accuracy * 100))\n",
    "print(confusion_matrix(y_test, y_pred))\n",
    "\n",
    "\n",
    "# ========== ----- ========== End ========== ----- ========== #"
   ]
  }
 ],
 "metadata": {
  "interpreter": {
   "hash": "dc14f7734d659c7a792a107c713d39d3b0ed48a15e8cd1909946cea7b1916837"
  },
  "kernelspec": {
   "display_name": "Python 3",
   "language": "python",
   "name": "python3"
  },
  "language_info": {
   "codemirror_mode": {
    "name": "ipython",
    "version": 3
   },
   "file_extension": ".py",
   "mimetype": "text/x-python",
   "name": "python",
   "nbconvert_exporter": "python",
   "pygments_lexer": "ipython3",
   "version": "3.9.7"
  }
 },
 "nbformat": 4,
 "nbformat_minor": 2
}
